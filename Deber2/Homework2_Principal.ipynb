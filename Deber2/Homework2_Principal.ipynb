{
 "cells": [
  {
   "cell_type": "markdown",
   "id": "79a58c81",
   "metadata": {},
   "source": [
    "# Homework 2\n",
    "Pamela Pupiales"
   ]
  },
  {
   "cell_type": "markdown",
   "id": "f0ba340a",
   "metadata": {},
   "source": [
    "Literal a"
   ]
  },
  {
   "cell_type": "code",
   "execution_count": 46,
   "id": "b0d02227",
   "metadata": {},
   "outputs": [
    {
     "data": {
      "text/html": [
       "Changes: <br /><table><tr><th>Type</th><th>Identifier</th><th>Value</th><tr><td>Register</td><td>EAX</td>\n",
       "            <td>1037658260</td></tr><tr><td>Register</td><td>EBX</td>\n",
       "            <td>1848850795</td></tr><tr><td>Register</td><td>ECX</td>\n",
       "            <td>1</td></tr><tr><td>Register</td><td>EDX</td>\n",
       "            <td>1848850795</td></tr><tr><td>Flag</td><td>SF</td>\n",
       "            <td>0</td></tr><tr><td>Flag</td><td>ZF</td>\n",
       "            <td>1</td></tr></table>"
      ]
     },
     "metadata": {},
     "output_type": "display_data"
    }
   ],
   "source": [
    "mov eax, 1\n",
    "mov ebx, 1\n",
    "mov ecx, 50\n",
    "mov edx, 1\n",
    "\n",
    "loopy: dec ecx \n",
    "            mov edx, eax\n",
    "            add eax, ebx\n",
    "            mov ebx, edx  \n",
    "            cmp 1, ecx\n",
    "        jne loopy"
   ]
  },
  {
   "cell_type": "markdown",
   "id": "fe9e83c7",
   "metadata": {},
   "source": [
    "literal b esta en archivo literal2.s \n"
   ]
  },
  {
   "cell_type": "markdown",
   "id": "26c3637e",
   "metadata": {},
   "source": [
    "literal c esta en archivo literal3.asm"
   ]
  },
  {
   "cell_type": "markdown",
   "id": "a12e7e1c",
   "metadata": {},
   "source": [
    "literal d"
   ]
  },
  {
   "cell_type": "code",
   "execution_count": 84,
   "id": "fdea6aa5",
   "metadata": {},
   "outputs": [
    {
     "data": {
      "text/html": [
       "Changes: <br /><table><tr><th>Type</th><th>Identifier</th><th>Value</th><tr><td>Register</td><td>EAX</td>\n",
       "            <td>46</td></tr><tr><td>Register</td><td>EBX</td>\n",
       "            <td>1.8</td></tr><tr><td>Register</td><td>ECX</td>\n",
       "            <td>32</td></tr></table>"
      ]
     },
     "metadata": {},
     "output_type": "display_data"
    }
   ],
   "source": [
    ";celcius a fahrenheit\n",
    ".data\n",
    ".text\n",
    "    mov eax, 14 ; cantidad celsius\n",
    "    mov ebx, 1.8\n",
    "    mov ecx, 32\n",
    "    imul eax, ebx ;multiplicacion\n",
    "    add eax, ecx ;suma final"
   ]
  },
  {
   "cell_type": "code",
   "execution_count": 85,
   "id": "20ef4cbd",
   "metadata": {},
   "outputs": [
    {
     "data": {
      "text/html": [
       "Changes: <br /><table><tr><th>Type</th><th>Identifier</th><th>Value</th><tr><td>Register</td><td>EAX</td>\n",
       "            <td>99.0</td></tr><tr><td>Register</td><td>EBX</td>\n",
       "            <td>32</td></tr><tr><td>Register</td><td>EDX</td>\n",
       "            <td>1.7999999999999956</td></tr></table>"
      ]
     },
     "metadata": {},
     "output_type": "display_data"
    }
   ],
   "source": [
    ";fahrenheit a celcius\n",
    ".data\n",
    ".text\n",
    "    mov eax, 212 ; cantidad fahrenheit\n",
    "    mov ebx, 32\n",
    "    sub eax, ebx ;resta\n",
    "    idiv 1.8 ;division final\n",
    "  "
   ]
  },
  {
   "cell_type": "markdown",
   "id": "5bdd5ebc",
   "metadata": {},
   "source": [
    "Parte 2"
   ]
  },
  {
   "cell_type": "markdown",
   "id": "e271229d",
   "metadata": {},
   "source": [
    "A. For a 16 bit word with 6 bits for an opcode \n",
    "a.How many different instructions could I fit into the instruction set? \n",
    "El numero de instrucciones se calcula\n",
    "\n",
    "2^6 = 64 se puede encajar 64 instrucciones"
   ]
  },
  {
   "cell_type": "markdown",
   "id": "600d00c9",
   "metadata": {},
   "source": [
    "B. What is the largest number that I could use as data?\n",
    "Se procede a restar 1 unidad de 2^10\n",
    "(2^10)-1 = 1023 es el numero mas largo que se puede usar"
   ]
  },
  {
   "cell_type": "markdown",
   "id": "2826621d",
   "metadata": {},
   "source": [
    "C. For the following memory space, what would it look like after executing the assembly code below:\n",
    "\n",
    "|Address|Contents|\n",
    "|-------|--------|\n",
    "|10     | 1      |\n",
    "|11     | 4      |\n",
    "|12     | 5      |\n",
    "|13     | 112    |\n",
    "|14     | 7      |\n",
    "\n",
    "LOAD 14\n",
    "ADD (12)\n",
    "STORE 12"
   ]
  },
  {
   "cell_type": "code",
   "execution_count": 101,
   "id": "8ba7365b",
   "metadata": {},
   "outputs": [
    {
     "data": {
      "text/html": [
       "Changes: <br /><table><tr><th>Type</th><th>Identifier</th><th>Value</th><tr><td>Register</td><td>EAX</td>\n",
       "            <td>12</td></tr><tr><td>Register</td><td>EBX</td>\n",
       "            <td>5</td></tr></table>"
      ]
     },
     "metadata": {},
     "output_type": "display_data"
    }
   ],
   "source": [
    ".data\n",
    ".text\n",
    "    mov eax, 7\n",
    "    mov ebx, 5\n",
    "    add eax, ebx"
   ]
  },
  {
   "cell_type": "markdown",
   "id": "c2dbd974",
   "metadata": {},
   "source": [
    "\n",
    "|Address|Contents|\n",
    "|-------|--------|\n",
    "|10     | 1      |\n",
    "|11     | 4      |\n",
    "|12     | 12     |\n",
    "|13     | 112    |\n",
    "|14     | 7      |"
   ]
  },
  {
   "cell_type": "markdown",
   "id": "91e8b4d8",
   "metadata": {},
   "source": [
    "Funcion swap esta en archivo swap.s"
   ]
  },
  {
   "cell_type": "markdown",
   "id": "292a1e37",
   "metadata": {},
   "source": [
    "Funcion swapl esta en archivo swapl.s"
   ]
  },
  {
   "cell_type": "markdown",
   "id": "24abde75",
   "metadata": {},
   "source": [
    "Funcion abs_diff esta en archivo Vabs.s"
   ]
  }
 ],
 "metadata": {
  "celltoolbar": "Tags",
  "kernelspec": {
   "display_name": "Intel",
   "language": "",
   "name": "intel"
  },
  "language_info": {
   "file_extension": "x86",
   "mimetype": "intel",
   "name": "intel"
  }
 },
 "nbformat": 4,
 "nbformat_minor": 5
}
