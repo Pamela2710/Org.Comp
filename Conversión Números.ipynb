{
 "cells": [
  {
   "cell_type": "code",
   "execution_count": 1,
   "id": "b81d642d",
   "metadata": {},
   "outputs": [
    {
     "name": "stdout",
     "output_type": "stream",
     "text": [
      "Introduce num original: 22\n",
      "Introduce base: 8\n",
      "Introduce target: 2\n",
      "Numero a convertir = 22\n",
      "Conversion de base: 8 a base: 2 es =  10010\n"
     ]
    }
   ],
   "source": [
    "#Funcion que da la vuelta al parametro de entrada\n",
    "def reverso(e):\n",
    "    vuelta = \"\"\n",
    "    ind = len(e)\n",
    "    while ind > 0:\n",
    "        vuelta += e[ind - 1]\n",
    "        ind -= 1\n",
    "    return vuelta\n",
    "\n",
    "# Decimal a cualquier base\n",
    "def DeBase(num, base, target):\n",
    "    numR1 = \"\"\n",
    "    while int(num) > 0:\n",
    "        dig1 = int(int(num) % target)\n",
    "        if dig1 < base:\n",
    "            numR1 += str(dig1)\n",
    "        else:\n",
    "            numR1 += chr(ord(\"A\") + dig1 - base)\n",
    "        num = int(num) // target\n",
    "\n",
    "    print(\"Conversion de base decimal a base\", target, \"es = \", reverso(numR1))\n",
    "\n",
    "# Cualquier base a decimal\n",
    "def BaseDe(num, base, target):\n",
    "    num = reverso(num)\n",
    "    print(\"Numero a convertir =\", num)\n",
    "    numR2 = 0\n",
    "    for i in range(len(num)):\n",
    "        dig2 = num[i]\n",
    "        if dig2.isdigit():\n",
    "            dig2 = int(dig2)\n",
    "        else:\n",
    "            dig2 = ord(dig2.upper()) - ord(\"A\") + int(target)\n",
    "        numR2 += dig2 * (int(base) ** i)\n",
    "    print(\"Conversion de base:\", base, \"a decimal es = \", numR2)\n",
    "\n",
    "#Cualquier base a otra base (excepto decimal)\n",
    "def BaseaBase(num, base, target):\n",
    "    num = reverso(num)\n",
    "    print(\"Numero a convertir =\", num)\n",
    "    numR3 = 0\n",
    "    numR4 = \"\"\n",
    "    for i in range(len(num)):\n",
    "        dig3 = num[i]\n",
    "        if dig3.isdigit():\n",
    "            dig3 = int(dig3)\n",
    "        else:\n",
    "            dig3 = ord(dig3.upper()) - ord(\"A\") + int(target)\n",
    "        numR3 += dig3 * (int(base) ** i)\n",
    "\n",
    "    while numR3 > 0:\n",
    "        dig4 = numR3 % int(target)\n",
    "        if dig4 < int(base):\n",
    "            numR4 += str(dig4)\n",
    "        else:\n",
    "            numR4 += chr(ord(\"A\") + dig4 - int(base))\n",
    "        numR3 = int(numR3) // int(target)\n",
    "\n",
    "    print(\"Conversion de base:\", base, \"a base:\", target, \"es = \", reverso(numR4))\n",
    "\n",
    "\n",
    "num = str(input(\"Introduce num original: \"))\n",
    "base = input(\"Introduce base: \")\n",
    "target = input(\"Introduce target: \")\n",
    "\n",
    "# Decimal a cualquier base\n",
    "if int(base) == 10:\n",
    "    DeBase(num, base, target)\n",
    "# Cualquier base a decimal\n",
    "if int(target) == 10:\n",
    "    BaseDe(num, base, target)\n",
    "#Cualquier base a otra base (excepto decimal)\n",
    "if int(base) != 10 and int(target) != 10:\n",
    "    BaseaBase(num, base, target)"
   ]
  },
  {
   "cell_type": "code",
   "execution_count": null,
   "id": "6e643153",
   "metadata": {},
   "outputs": [],
   "source": []
  }
 ],
 "metadata": {
  "kernelspec": {
   "display_name": "Python 3",
   "language": "python",
   "name": "python3"
  },
  "language_info": {
   "codemirror_mode": {
    "name": "ipython",
    "version": 3
   },
   "file_extension": ".py",
   "mimetype": "text/x-python",
   "name": "python",
   "nbconvert_exporter": "python",
   "pygments_lexer": "ipython3",
   "version": "3.8.8"
  }
 },
 "nbformat": 4,
 "nbformat_minor": 5
}
